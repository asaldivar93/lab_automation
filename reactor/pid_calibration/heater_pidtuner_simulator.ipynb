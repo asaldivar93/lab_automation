{
 "cells": [
  {
   "cell_type": "code",
   "execution_count": 2,
   "id": "50e80527",
   "metadata": {},
   "outputs": [],
   "source": [
    "from scipy.integrate import odeint\n",
    "from IPython.display import display\n",
    "\n",
    "import ipywidgets as wg\n",
    "import plotly.graph_objects as go\n",
    "import plotly.express as pl\n",
    "import plotly.io as pio\n",
    "\n",
    "import numpy as np\n",
    "import pandas as pd\n",
    "import json\n",
    "\n",
    "with open('theme_template.json', 'r') as template:\n",
    "    style = json.load(template)\n",
    "style[\"layout\"][\"height\"] = 2*61 * (600 / 158.75)\n",
    "style[\"layout\"][\"width\"] = 2*70 * (600 / 158.75)\n",
    "\n",
    "pio.templates[\"paper\"] = go.layout.Template(\n",
    "    data=style[\"data\"],\n",
    "    layout=style[\"layout\"]\n",
    ")\n",
    "pio.templates.default = \"simple_white+paper\"\n"
   ]
  },
  {
   "cell_type": "code",
   "execution_count": 33,
   "id": "1746fb20",
   "metadata": {},
   "outputs": [],
   "source": [
    "def electric_heater(T, t, u):\n",
    "    Tr, TL = T\n",
    "    # Parameters\n",
    "    # U = global heat transfer coefficient\n",
    "    # U_loss = heat losses to air\n",
    "    # A = area of heat Transfer\n",
    "    # T_amb = ambient temperature\n",
    "    # L_mass = mass of the process liquid\n",
    "    # gain = gain\n",
    "\n",
    "    UA_loss = 0.1049  # W / m^2 s\n",
    "    UA = 0.6539  # W / m^2 s\n",
    "    UA_loss1 = 0.09409\n",
    "    gain = 0.1319\n",
    "    T_amb = 24\n",
    "    L_mass = 650\n",
    "    Cp = 4.186  # J / g K\n",
    "    mcpr = 153\n",
    "\n",
    "    Qt = UA * (Tr - TL)\n",
    "    Q_loss = UA_loss * (Tr - T_amb)\n",
    "    Q_loss1 = UA_loss1 * (TL - T_amb)\n",
    "\n",
    "    dTLdt = (Qt - Q_loss1) / (L_mass * Cp)\n",
    "    dTrdt = (gain * u - (Qt + Q_loss)) / mcpr\n",
    "\n",
    "    return [dTrdt, dTLdt]\n",
    "    \n",
    "def simulate(kp, ki, kd, set_point):\n",
    "\n",
    "    #                  T_liquid, T_resistor\n",
    "    initial_conditions = [25, 25]\n",
    "    simulation_results = pd.DataFrame(columns=[\"Time\", \"T_resistance\", \"T_liquid\", \"u\"])\n",
    "    simulation_results.loc[0, \"Time\"] = 0\n",
    "    simulation_results.loc[0, \"T_liquid\"] = initial_conditions[0]\n",
    "    simulation_results.loc[0, \"T_resistance\"] = initial_conditions[1]\n",
    "    simulation_results.loc[0, \"u\"] = 0\n",
    "\n",
    "    N = 2*3600\n",
    "    time_final = 2*3600\n",
    "    time = np.linspace(0, time_final, N)\n",
    "    I = np.zeros(N)\n",
    "    error = np.zeros(N)\n",
    "    u = np.zeros(N)\n",
    "\n",
    "    for i in range(1, N):\n",
    "        dt = time[i] - time[i - 1]\n",
    "        time_interval = [time[i - 1], time[i]]\n",
    "        solution = odeint(\n",
    "            electric_heater, initial_conditions, time_interval, args=(u[i-1],)\n",
    "        )\n",
    "\n",
    "        error[i] = set_point - solution[-1, 1]\n",
    "        P = kp * error[i]\n",
    "        I[i] = I[i - 1] + ki * error[i] * dt\n",
    "        D = -kd * (error[i] - error[i - 1]) / dt\n",
    "        u[i] = np.ceil(P + I[i] + D) \n",
    "        if u[i] > 255:\n",
    "            u[i] = 255\n",
    "        if u[i] < 0:\n",
    "            u[i] = 0\n",
    "\n",
    "        simulation_results.loc[i, \"Time\"] = time[i]\n",
    "        simulation_results.loc[i, \"T_resistance\"] = solution[-1, 0]\n",
    "        simulation_results.loc[i, \"T_liquid\"] = solution[-1, 1]\n",
    "        simulation_results.loc[i, \"u\"] = u[i]\n",
    "        initial_conditions = [solution[-1, 0], solution[-1, 1]]\n",
    "    \n",
    "    fig_temps = pl.line(simulation_results, x=\"Time\", y=[\"T_liquid\", \"T_resistance\"])\n",
    "    fig_control = pl.line(simulation_results, x=\"Time\", y=\"u\")\n",
    "    fig_temps.show()\n",
    "    fig_control.show()\n"
   ]
  },
  {
   "cell_type": "code",
   "execution_count": 34,
   "id": "1db297ed",
   "metadata": {
    "scrolled": true
   },
   "outputs": [
    {
     "data": {
      "application/vnd.jupyter.widget-view+json": {
       "model_id": "ebf86c43cff34aa3b160e7bf2aebcc50",
       "version_major": 2,
       "version_minor": 0
      },
      "text/plain": [
       "interactive(children=(BoundedFloatText(value=1.0, description='kp', max=10000.0), BoundedFloatText(value=1.0, …"
      ]
     },
     "metadata": {},
     "output_type": "display_data"
    },
    {
     "data": {
      "text/plain": [
       "<function __main__.simulate(kp, ki, kd, set_point)>"
      ]
     },
     "execution_count": 34,
     "metadata": {},
     "output_type": "execute_result"
    }
   ],
   "source": [
    "\n",
    "kp_wg = wg.BoundedFloatText(value=1, max=10000)\n",
    "ki_wg = wg.BoundedFloatText(value=0, max=10000)\n",
    "kd_wg = wg.BoundedFloatText(value=0, max=10000)\n",
    "sp_wg = wg.BoundedFloatText(value=50, max=10000)\n",
    "wg.interact(\n",
    "    simulate,\n",
    "    kp=kp_wg,\n",
    "    ki=ki_wg,\n",
    "    kd=kd_wg,\n",
    "    set_point=sp_wg\n",
    ")"
   ]
  }
 ],
 "metadata": {
  "kernelspec": {
   "display_name": "Python 3 (ipykernel)",
   "language": "python",
   "name": "python3"
  },
  "language_info": {
   "codemirror_mode": {
    "name": "ipython",
    "version": 3
   },
   "file_extension": ".py",
   "mimetype": "text/x-python",
   "name": "python",
   "nbconvert_exporter": "python",
   "pygments_lexer": "ipython3",
   "version": "3.7.12"
  }
 },
 "nbformat": 4,
 "nbformat_minor": 5
}

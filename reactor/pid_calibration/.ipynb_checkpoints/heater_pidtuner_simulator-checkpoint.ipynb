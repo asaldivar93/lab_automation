{
 "cells": [
  {
   "cell_type": "code",
   "execution_count": 72,
   "id": "50e80527",
   "metadata": {},
   "outputs": [],
   "source": [
    "from scipy.integrate import odeint\n",
    "from IPython.display import display\n",
    "\n",
    "import ipywidgets as wg\n",
    "import plotly.graph_objects as go\n",
    "import plotly.express as pl\n",
    "import plotly.io as pio\n",
    "\n",
    "import numpy as np\n",
    "import pandas as pd\n",
    "import json\n",
    "\n",
    "with open('theme_template.json', 'r') as template:\n",
    "    style = json.load(template)\n",
    "style[\"layout\"][\"height\"] = 2*61 * (600 / 158.75)\n",
    "style[\"layout\"][\"width\"] = 2*70 * (600 / 158.75)\n",
    "\n",
    "pio.templates[\"paper\"] = go.layout.Template(\n",
    "    data=style[\"data\"],\n",
    "    layout=style[\"layout\"]\n",
    ")\n",
    "pio.templates.default = \"simple_white+paper\"\n"
   ]
  },
  {
   "cell_type": "code",
   "execution_count": 80,
   "id": "1746fb20",
   "metadata": {},
   "outputs": [],
   "source": [
    "def electric_heater(T, t, parameters, u):\n",
    "    TL, Tr = T\n",
    "    #### Parameters\n",
    "    # U = global heat transfer coefficient\n",
    "    # U_loss = heat losses to air\n",
    "    # A = area of heat Transfer\n",
    "    # T_amb = ambient temperature\n",
    "    # L_mass = mass of the process liquid\n",
    "    # gain = gain\n",
    "    \n",
    "    U = parameters[0] # W / m^2 s\n",
    "    U_loss = parameters [1] # W / m^2 s\n",
    "    A = parameters[2] # m^2\n",
    "    gain = parameters[3] # \n",
    "    T_amb = parameters[4] # Celsius\n",
    "    L_mass = parameters[5] # grams\n",
    "    R_mass = 50 # grams\n",
    "    Cp = 4.186 # J / g K\n",
    "    Cpr = 1 # J / g K\n",
    "    \n",
    "    Qt = A * U * (Tr - TL)\n",
    "    Q_loss = A * U_loss * (Tr - T_amb)\n",
    "    \n",
    "    dTLdt =  Qt / (L_mass * Cp)\n",
    "    dTrdt =  (gain * u - (Qt + Q_loss)) / (R_mass * Cpr)\n",
    "    \n",
    "    return [dTLdt, dTrdt]\n",
    "    \n",
    "def simulate(U, U_loss, A, gain, T_amb, L_mass, set_point, kp, ki, kd):\n",
    "\n",
    "    parameters = [U, U_loss, A, gain, T_amb, L_mass]\n",
    "    #                  T_liquid, T_resistor\n",
    "    initial_conditions = [25, 25]\n",
    "    simulation_results = pd.DataFrame(columns=[\"Time\", \"T_liquid\", \"T_resistance\", \"u\"])\n",
    "    simulation_results.loc[0, \"Time\"] = 0\n",
    "    simulation_results.loc[0, \"T_liquid\"] = initial_conditions[0]\n",
    "    simulation_results.loc[0, \"T_resistance\"] = initial_conditions[1]\n",
    "    simulation_results.loc[0, \"u\"] = 0\n",
    "\n",
    "    N = 1000\n",
    "    time_final = 1000\n",
    "    time = np.linspace(0, time_final, N)\n",
    "    I = np.zeros(N)\n",
    "    error = np.zeros(N)\n",
    "    u = np.zeros(N)\n",
    "\n",
    "    for i in range(1, N):\n",
    "        dt = time[i] - time[i - 1]\n",
    "        time_interval = [time[i - 1], time[i]]\n",
    "        solution = odeint(\n",
    "            electric_heater, initial_conditions, time_interval, args=(parameters, u[i-1])\n",
    "        )\n",
    "\n",
    "        error[i] = set_point - solution[-1, 0]\n",
    "        P = kp * error[i]\n",
    "        I[i] = I[i - 1] + ki * error[i] * dt\n",
    "        D = -kd * (error[i] - error[i - 1]) / dt\n",
    "        u[i] = np.ceil(P + I[i] + D) \n",
    "        if u[i] > 255:\n",
    "            u[i] = 255\n",
    "        if u[i] < 0:\n",
    "            u[i] = 0\n",
    "\n",
    "        simulation_results.loc[i, \"Time\"] = time[i]\n",
    "        simulation_results.loc[i, \"T_liquid\"] = solution[-1, 0]\n",
    "        simulation_results.loc[i, \"T_resistance\"] = solution[-1, 1]\n",
    "        simulation_results.loc[i, \"u\"] = u[i]\n",
    "        initial_conditions = [solution[-1, 0], solution[-1, 1]]\n",
    "    \n",
    "    fig_temps = pl.line(simulation_results, x=\"Time\", y=[\"T_liquid\", \"T_resistance\"])\n",
    "    fig_control = pl.line(simulation_results, x=\"Time\", y=\"u\")\n",
    "    fig_temps.show()\n",
    "    fig_control.show()\n"
   ]
  },
  {
   "cell_type": "code",
   "execution_count": 81,
   "id": "1db297ed",
   "metadata": {},
   "outputs": [
    {
     "data": {
      "application/vnd.jupyter.widget-view+json": {
       "model_id": "16d2ac3c631249a38312a086fe625b17",
       "version_major": 2,
       "version_minor": 0
      },
      "text/plain": [
       "interactive(children=(BoundedFloatText(value=0.0402107, description='U'), BoundedFloatText(value=0.00299871, d…"
      ]
     },
     "metadata": {},
     "output_type": "display_data"
    },
    {
     "data": {
      "text/plain": [
       "<function __main__.simulate(U, U_loss, A, gain, T_amb, L_mass, set_point, kp, ki, kd)>"
      ]
     },
     "execution_count": 81,
     "metadata": {},
     "output_type": "execute_result"
    }
   ],
   "source": [
    "    #             U, U_loss, A, gain, T_amb, L_mass\n",
    "    parameters = [4.02107E-02, 2.99871E-03, 36.71, 1, 20, 20]\n",
    "U_wg = wg.BoundedFloatText(value=4.02107E-02)\n",
    "Uloss_wg = wg.BoundedFloatText(value=2.99871E-03)\n",
    "A_wg = wg.BoundedFloatText(value=36.71)\n",
    "gain_wg = wg.BoundedFloatText(value=1)\n",
    "Tamb_wg = wg.BoundedFloatText(value=23)\n",
    "Lmass_wg = wg.BoundedFloatText(value=20)\n",
    "kp_wg = wg.BoundedFloatText(value=1)\n",
    "kp_wg = wg.BoundedFloatText(value=1)\n",
    "ki_wg = wg.BoundedFloatText(value=0.0001)\n",
    "kd_wg = wg.BoundedFloatText(value=0)\n",
    "sp_wg = wg.BoundedFloatText(value=50)\n",
    "wg.interact(\n",
    "    simulate,\n",
    "    U=U_wg, U_loss=Uloss_wg,\n",
    "    gain=gain_wg,T_amb=Tamb_wg,\n",
    "    L_mass=Lmass_wg, A=A_wg,\n",
    "    kp=kp_wg,\n",
    "    ki=ki_wg,\n",
    "    kd=kd_wg,\n",
    "    set_point=sp_wg\n",
    ")"
   ]
  }
 ],
 "metadata": {
  "kernelspec": {
   "display_name": "Python 3 (ipykernel)",
   "language": "python",
   "name": "python3"
  },
  "language_info": {
   "codemirror_mode": {
    "name": "ipython",
    "version": 3
   },
   "file_extension": ".py",
   "mimetype": "text/x-python",
   "name": "python",
   "nbconvert_exporter": "python",
   "pygments_lexer": "ipython3",
   "version": "3.7.12"
  }
 },
 "nbformat": 4,
 "nbformat_minor": 5
}

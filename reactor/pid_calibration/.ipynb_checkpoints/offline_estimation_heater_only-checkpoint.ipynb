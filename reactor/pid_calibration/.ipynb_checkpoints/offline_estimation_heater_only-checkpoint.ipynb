{
 "cells": [
  {
   "cell_type": "code",
   "execution_count": 35,
   "id": "35400313",
   "metadata": {},
   "outputs": [
    {
     "name": "stdout",
     "output_type": "stream",
     "text": [
      "CPU times: user 4 µs, sys: 0 ns, total: 4 µs\n",
      "Wall time: 7.63 µs\n"
     ]
    }
   ],
   "source": [
    "from scipy.integrate import odeint\n",
    "from scipy.optimize import minimize\n",
    "\n",
    "import matplotlib.pyplot as plot\n",
    "import pandas as pd\n",
    "import numpy as np\n",
    "plot.style.use('seaborn')\n",
    "\n",
    "experiment = 'test_calibration'"
   ]
  },
  {
   "cell_type": "code",
   "execution_count": null,
   "id": "49af662b",
   "metadata": {},
   "outputs": [],
   "source": [
    "def electric_heater(T, t, parameters, u):\n",
    "    # Parameters\n",
    "    # U_loss = heat losses to air\n",
    "    # A = area of heat Transfer\n",
    "    # T_amb = ambient temperature\n",
    "    # gain = gain\n",
    "\n",
    "    U_loss = parameters[0]  # W / m^2 s\n",
    "    gain = parameters[1]  #\n",
    "    A = 20  # m^2\n",
    "    T_amb = 25  # Celsius\n",
    "    R_mass = 50  # grams\n",
    "    Cpr = 1  # J / g K\n",
    "\n",
    "    Q_loss = A * U_loss * (T - T_amb)\n",
    "    dTrdt = (gain * u - Q_loss) / (R_mass * Cpr)\n",
    "\n",
    "    return dTrdt\n",
    "\n",
    "\n",
    "def simulate(parameters):\n",
    "    initial_conditions = data.loc[0, \"T_heater\"]\n",
    "    simulation_results = pd.DataFrame(columns=[\"Time\", \"u\", \"T_heater\"])\n",
    "    simulation_results.loc[0, \"Time\"] = data.loc[0, \"Time\"]\n",
    "    simulation_results.loc[0, \"T_heater\"] = initial_conditions\n",
    "    simulation_results.loc[0, \"u\"] = data.loc[0, \"PWM\"]\n",
    "\n",
    "    N = len(data)\n",
    "    time = data.loc[0:, \"Time\"]\n",
    "    u = data.loc[0:, \"PWM\"]\n",
    "\n",
    "    for i in range(1, N):\n",
    "        time_interval = [time[i - 1], time[i]]\n",
    "        solution = odeint(\n",
    "            electric_heater, initial_conditions, time_interval, args=(parameters, u[i - 0])\n",
    "        )\n",
    "\n",
    "        simulation_results.loc[i, \"Time\"] = time[i]\n",
    "        simulation_results.loc[i, \"T_heater\"] = solution[-1][0]\n",
    "        simulation_results.loc[i, \"u\"] = u[i]\n",
    "        initial_conditions = solution[-1][0]\n",
    "\n",
    "    return simulation_results\n",
    "\n",
    "\n",
    "def squared_error(simulation_results):\n",
    "    y = data.loc[:, \"T_heater\"].to_numpy()\n",
    "    yhat = simulation_results.loc[:, \"T_heater\"].to_numpy()\n",
    "    penalty = np.diag(0.8 * np.ones(len(data)))\n",
    "\n",
    "    return np.dot(np.dot((y - yhat).transpose(), penalty), (y - yhat))\n",
    "\n",
    "\n",
    "def model_deviation(simulation_results):\n",
    "    yhat = simulation_results.loc[:, \"T_heater\"].to_numpy()\n",
    "    yhat_old = old_results.loc[:, \"T_heater\"].to_numpy()\n",
    "    penalty = np.diag(0.1 * np.ones(len(data)))\n",
    "\n",
    "    return np.dot(np.dot((yhat - yhat_old).transpose(), penalty), (yhat - yhat_old))\n",
    "\n",
    "\n",
    "def parameter_movement(parameters):\n",
    "    p = np.array(parameters)\n",
    "    p_old = parameters_df.iloc[-1, :].to_numpy()\n",
    "    penalty = np.diag(0.1 * np.ones(len(p_old)))\n",
    "    delta_p = (p - p_old)\n",
    "\n",
    "    return np.dot(np.dot(delta_p.transpose(), penalty), delta_p)\n",
    "\n",
    "\n",
    "def objective(parameters):\n",
    "    simulation_results = simulate(parameters)\n",
    "    objective = squared_error(simulation_results) + model_deviation(simulation_results) + parameter_movement(parameters)\n",
    "\n",
    "    return objective / len(data)"
   ]
  },
  {
   "cell_type": "code",
   "execution_count": null,
   "id": "9c8e372c",
   "metadata": {},
   "outputs": [],
   "source": [
    "parameters_df = pd.DataFrame(columns=[\"U_loss\", \"Gain\"])\n",
    "parameters_df.loc[0, \"U_loss\"] = 1e-5   # Heat losses to air\n",
    "parameters_df.loc[0, \"Gain\"] = 10  # Heat gain from electric current\n",
    "iter = 0"
   ]
  },
  {
   "cell_type": "code",
   "execution_count": null,
   "id": "25baadce",
   "metadata": {},
   "outputs": [],
   "source": [
    "%time\n",
    "iter = iter + 1\n",
    "\n",
    "# Load Data\n",
    "data = pd.read_csv(experiment + '/data.csv')\n",
    "data.loc[:, \"Time\"] = data.loc[:, \"Time\"] * 3600\n",
    "data = data.reset_index().drop(columns=['index'])\n",
    "\n",
    "# Simulate model with parameters\n",
    "old_parameters = parameters_df.loc[iter - 1, :].to_list()\n",
    "old_results = simulate(old_parameters)\n",
    "new_parameters = minimize(objective, old_parameters, method='Nelder-Mead', tol=100)\n",
    "parameters_df.loc[iter, :] = new_parameters.x"
   ]
  },
  {
   "cell_type": "code",
   "execution_count": null,
   "id": "c39bb50e",
   "metadata": {},
   "outputs": [],
   "source": [
    "plot.plot(data.loc[:, \"Time\"], data.loc[:, \"T_heater\"], old_results.loc[:, \"Time\"], old_results.loc[:, \"T_heater\"], 'r')\n",
    "plot.show()"
   ]
  }
 ],
 "metadata": {
  "kernelspec": {
   "display_name": "Python 3 (ipykernel)",
   "language": "python",
   "name": "python3"
  },
  "language_info": {
   "codemirror_mode": {
    "name": "ipython",
    "version": 3
   },
   "file_extension": ".py",
   "mimetype": "text/x-python",
   "name": "python",
   "nbconvert_exporter": "python",
   "pygments_lexer": "ipython3",
   "version": "3.7.12"
  }
 },
 "nbformat": 4,
 "nbformat_minor": 5
}
